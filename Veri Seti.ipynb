{
 "cells": [
  {
   "cell_type": "code",
   "execution_count": 5,
   "id": "71e367d1-81f2-4e92-8713-404d7866fb54",
   "metadata": {},
   "outputs": [],
   "source": [
    "import trino\n",
    "import numpy \n",
    "import pandas as pd\n",
    "import matplotlib.pyplot as plt"
   ]
  },
  {
   "cell_type": "code",
   "execution_count": 6,
   "id": "4aec644c-d1b8-4985-8867-704623949b65",
   "metadata": {},
   "outputs": [],
   "source": [
    "df = pd.read_csv(\"ogrenciler.csv\")"
   ]
  },
  {
   "cell_type": "code",
   "execution_count": 7,
   "id": "7c0b8b4b-da88-473e-bdd7-2dc65f8b976d",
   "metadata": {},
   "outputs": [
    {
     "data": {
      "text/html": [
       "<div>\n",
       "<style scoped>\n",
       "    .dataframe tbody tr th:only-of-type {\n",
       "        vertical-align: middle;\n",
       "    }\n",
       "\n",
       "    .dataframe tbody tr th {\n",
       "        vertical-align: top;\n",
       "    }\n",
       "\n",
       "    .dataframe thead th {\n",
       "        text-align: right;\n",
       "    }\n",
       "</style>\n",
       "<table border=\"1\" class=\"dataframe\">\n",
       "  <thead>\n",
       "    <tr style=\"text-align: right;\">\n",
       "      <th></th>\n",
       "      <th>id</th>\n",
       "      <th>isim</th>\n",
       "      <th>yas</th>\n",
       "      <th>sinav_notu</th>\n",
       "    </tr>\n",
       "  </thead>\n",
       "  <tbody>\n",
       "    <tr>\n",
       "      <th>0</th>\n",
       "      <td>1</td>\n",
       "      <td>Ali</td>\n",
       "      <td>15</td>\n",
       "      <td>78</td>\n",
       "    </tr>\n",
       "    <tr>\n",
       "      <th>1</th>\n",
       "      <td>2</td>\n",
       "      <td>Ayse</td>\n",
       "      <td>16</td>\n",
       "      <td>85</td>\n",
       "    </tr>\n",
       "    <tr>\n",
       "      <th>2</th>\n",
       "      <td>3</td>\n",
       "      <td>Mehmet</td>\n",
       "      <td>15</td>\n",
       "      <td>92</td>\n",
       "    </tr>\n",
       "    <tr>\n",
       "      <th>3</th>\n",
       "      <td>4</td>\n",
       "      <td>Elif</td>\n",
       "      <td>17</td>\n",
       "      <td>66</td>\n",
       "    </tr>\n",
       "    <tr>\n",
       "      <th>4</th>\n",
       "      <td>5</td>\n",
       "      <td>Deniz</td>\n",
       "      <td>16</td>\n",
       "      <td>74</td>\n",
       "    </tr>\n",
       "  </tbody>\n",
       "</table>\n",
       "</div>"
      ],
      "text/plain": [
       "   id    isim  yas  sinav_notu\n",
       "0   1     Ali   15          78\n",
       "1   2    Ayse   16          85\n",
       "2   3  Mehmet   15          92\n",
       "3   4    Elif   17          66\n",
       "4   5   Deniz   16          74"
      ]
     },
     "execution_count": 7,
     "metadata": {},
     "output_type": "execute_result"
    }
   ],
   "source": [
    "df.head()"
   ]
  },
  {
   "cell_type": "code",
   "execution_count": 8,
   "id": "e15594a6-1493-4c7c-a736-7756fac87563",
   "metadata": {},
   "outputs": [
    {
     "name": "stdout",
     "output_type": "stream",
     "text": [
      "Sınıfın ortalama notu: 78.5\n"
     ]
    }
   ],
   "source": [
    "ortalama_not = df['sinav_notu'].mean()\n",
    "\n",
    "#printing\n",
    "\n",
    "print(\"Sınıfın ortalama notu:\", ortalama_not)"
   ]
  },
  {
   "cell_type": "code",
   "execution_count": 9,
   "id": "2b19718b-5e83-4ad0-91c1-7b136b0586d7",
   "metadata": {},
   "outputs": [
    {
     "name": "stdout",
     "output_type": "stream",
     "text": [
      "Yasa gore ortalama not: yas\n",
      "15    84.142857\n",
      "16    74.000000\n",
      "17    77.166667\n",
      "Name: sinav_notu, dtype: float64\n"
     ]
    }
   ],
   "source": [
    "#yasa gore ortalama not\n",
    "\n",
    "yasa_gore_ortalama_not = df.groupby('yas')['sinav_notu'].mean()\n",
    "\n",
    "print(\"Yasa gore ortalama not:\", yasa_gore_ortalama_not)"
   ]
  },
  {
   "cell_type": "code",
   "execution_count": 11,
   "id": "4d4fa484-c54d-4a19-a44c-d021d3c7abd6",
   "metadata": {},
   "outputs": [
    {
     "data": {
      "image/png": "[encoded data removed]",
      "text/plain": [
       "<Figure size 640x480 with 1 Axes>"
      ]
     },
     "metadata": {},
     "output_type": "display_data"
    }
   ],
   "source": [
    "# Görselleştirme\n",
    "yasa_gore_ortalama_not.plot(kind=\"bar\", title=\"Yaşa Göre Ortalama Not\")\n",
    "plt.xlabel(\"Yaş\")\n",
    "plt.ylabel(\"Ortalama Not\")\n",
    "plt.show()"
   ]
  },
  {
   "cell_type": "code",
   "execution_count": null,
   "id": "d4691de7-96a4-4a68-a577-c397f88a08a5",
   "metadata": {},
   "outputs": [],
   "source": []
  }
 ],
 "metadata": {
  "kernelspec": {
   "display_name": "Python 3 (ipykernel)",
   "language": "python",
   "name": "python3"
  },
  "language_info": {
   "codemirror_mode": {
    "name": "ipython",
    "version": 3
   },
   "file_extension": ".py",
   "mimetype": "text/x-python",
   "name": "python",
   "nbconvert_exporter": "python",
   "pygments_lexer": "ipython3",
   "version": "3.10.6"
  }
 },
 "nbformat": 4,
 "nbformat_minor": 5
}
