{
 "cells": [
  {
   "cell_type": "code",
   "execution_count": 1,
   "id": "9cc6dd0f-67c3-40b0-a777-c4d5755994c2",
   "metadata": {},
   "outputs": [],
   "source": [
    "import pandas as pd \n",
    "import matplotlib.pyplot as plt"
   ]
  },
  {
   "cell_type": "code",
   "execution_count": 3,
   "id": "a48338df-eb39-4f70-8218-d1580dea8a53",
   "metadata": {},
   "outputs": [],
   "source": [
    "df = pd.read_csv('satis.csv')"
   ]
  },
  {
   "cell_type": "code",
   "execution_count": 4,
   "id": "3c8d6e40-f497-4e29-badf-13671a9384b6",
   "metadata": {},
   "outputs": [
    {
     "data": {
      "text/html": [
       "<div>\n",
       "<style scoped>\n",
       "    .dataframe tbody tr th:only-of-type {\n",
       "        vertical-align: middle;\n",
       "    }\n",
       "\n",
       "    .dataframe tbody tr th {\n",
       "        vertical-align: top;\n",
       "    }\n",
       "\n",
       "    .dataframe thead th {\n",
       "        text-align: right;\n",
       "    }\n",
       "</style>\n",
       "<table border=\"1\" class=\"dataframe\">\n",
       "  <thead>\n",
       "    <tr style=\"text-align: right;\">\n",
       "      <th></th>\n",
       "      <th>id</th>\n",
       "      <th>tarih</th>\n",
       "      <th>urun</th>\n",
       "      <th>miktar</th>\n",
       "      <th>fiyat</th>\n",
       "    </tr>\n",
       "  </thead>\n",
       "  <tbody>\n",
       "    <tr>\n",
       "      <th>0</th>\n",
       "      <td>1</td>\n",
       "      <td>2025-01-05</td>\n",
       "      <td>Kalem</td>\n",
       "      <td>10</td>\n",
       "      <td>2.5</td>\n",
       "    </tr>\n",
       "    <tr>\n",
       "      <th>1</th>\n",
       "      <td>2</td>\n",
       "      <td>2025-01-07</td>\n",
       "      <td>Defter</td>\n",
       "      <td>5</td>\n",
       "      <td>7.0</td>\n",
       "    </tr>\n",
       "    <tr>\n",
       "      <th>2</th>\n",
       "      <td>3</td>\n",
       "      <td>2025-01-10</td>\n",
       "      <td>Silgi</td>\n",
       "      <td>20</td>\n",
       "      <td>1.5</td>\n",
       "    </tr>\n",
       "    <tr>\n",
       "      <th>3</th>\n",
       "      <td>4</td>\n",
       "      <td>2025-01-12</td>\n",
       "      <td>Kalem</td>\n",
       "      <td>15</td>\n",
       "      <td>2.5</td>\n",
       "    </tr>\n",
       "    <tr>\n",
       "      <th>4</th>\n",
       "      <td>5</td>\n",
       "      <td>2025-01-15</td>\n",
       "      <td>Defter</td>\n",
       "      <td>8</td>\n",
       "      <td>7.0</td>\n",
       "    </tr>\n",
       "  </tbody>\n",
       "</table>\n",
       "</div>"
      ],
      "text/plain": [
       "   id       tarih    urun  miktar  fiyat\n",
       "0   1  2025-01-05   Kalem      10    2.5\n",
       "1   2  2025-01-07  Defter       5    7.0\n",
       "2   3  2025-01-10   Silgi      20    1.5\n",
       "3   4  2025-01-12   Kalem      15    2.5\n",
       "4   5  2025-01-15  Defter       8    7.0"
      ]
     },
     "execution_count": 4,
     "metadata": {},
     "output_type": "execute_result"
    }
   ],
   "source": [
    "df.head()"
   ]
  },
  {
   "cell_type": "code",
   "execution_count": 5,
   "id": "27c3821c-40ab-4a38-84fb-538c52c89f5c",
   "metadata": {},
   "outputs": [],
   "source": [
    "df['gelir'] = df['miktar'] * df['fiyat']"
   ]
  },
  {
   "cell_type": "code",
   "execution_count": 6,
   "id": "5d4e488e-7eee-43fb-987e-41c5dcebac37",
   "metadata": {},
   "outputs": [
    {
     "data": {
      "text/html": [
       "<div>\n",
       "<style scoped>\n",
       "    .dataframe tbody tr th:only-of-type {\n",
       "        vertical-align: middle;\n",
       "    }\n",
       "\n",
       "    .dataframe tbody tr th {\n",
       "        vertical-align: top;\n",
       "    }\n",
       "\n",
       "    .dataframe thead th {\n",
       "        text-align: right;\n",
       "    }\n",
       "</style>\n",
       "<table border=\"1\" class=\"dataframe\">\n",
       "  <thead>\n",
       "    <tr style=\"text-align: right;\">\n",
       "      <th></th>\n",
       "      <th>id</th>\n",
       "      <th>tarih</th>\n",
       "      <th>urun</th>\n",
       "      <th>miktar</th>\n",
       "      <th>fiyat</th>\n",
       "      <th>gelir</th>\n",
       "    </tr>\n",
       "  </thead>\n",
       "  <tbody>\n",
       "    <tr>\n",
       "      <th>0</th>\n",
       "      <td>1</td>\n",
       "      <td>2025-01-05</td>\n",
       "      <td>Kalem</td>\n",
       "      <td>10</td>\n",
       "      <td>2.5</td>\n",
       "      <td>25.0</td>\n",
       "    </tr>\n",
       "    <tr>\n",
       "      <th>1</th>\n",
       "      <td>2</td>\n",
       "      <td>2025-01-07</td>\n",
       "      <td>Defter</td>\n",
       "      <td>5</td>\n",
       "      <td>7.0</td>\n",
       "      <td>35.0</td>\n",
       "    </tr>\n",
       "    <tr>\n",
       "      <th>2</th>\n",
       "      <td>3</td>\n",
       "      <td>2025-01-10</td>\n",
       "      <td>Silgi</td>\n",
       "      <td>20</td>\n",
       "      <td>1.5</td>\n",
       "      <td>30.0</td>\n",
       "    </tr>\n",
       "    <tr>\n",
       "      <th>3</th>\n",
       "      <td>4</td>\n",
       "      <td>2025-01-12</td>\n",
       "      <td>Kalem</td>\n",
       "      <td>15</td>\n",
       "      <td>2.5</td>\n",
       "      <td>37.5</td>\n",
       "    </tr>\n",
       "    <tr>\n",
       "      <th>4</th>\n",
       "      <td>5</td>\n",
       "      <td>2025-01-15</td>\n",
       "      <td>Defter</td>\n",
       "      <td>8</td>\n",
       "      <td>7.0</td>\n",
       "      <td>56.0</td>\n",
       "    </tr>\n",
       "  </tbody>\n",
       "</table>\n",
       "</div>"
      ],
      "text/plain": [
       "   id       tarih    urun  miktar  fiyat  gelir\n",
       "0   1  2025-01-05   Kalem      10    2.5   25.0\n",
       "1   2  2025-01-07  Defter       5    7.0   35.0\n",
       "2   3  2025-01-10   Silgi      20    1.5   30.0\n",
       "3   4  2025-01-12   Kalem      15    2.5   37.5\n",
       "4   5  2025-01-15  Defter       8    7.0   56.0"
      ]
     },
     "execution_count": 6,
     "metadata": {},
     "output_type": "execute_result"
    }
   ],
   "source": [
    "df.head()"
   ]
  },
  {
   "cell_type": "code",
   "execution_count": 11,
   "id": "38797de0-eb46-409c-b64e-3cd9753fbacc",
   "metadata": {},
   "outputs": [],
   "source": [
    "toplam_gelir_urun = df.groupby('urun')['gelir'].sum()"
   ]
  },
  {
   "cell_type": "code",
   "execution_count": 12,
   "id": "24186e85-0221-4fa7-9207-bf38148eb702",
   "metadata": {},
   "outputs": [],
   "source": [
    "en_cok_satilan_urun = toplam_gelir_urun.idxmax()"
   ]
  },
  {
   "cell_type": "code",
   "execution_count": 18,
   "id": "2ff4f6a6-9285-4b62-aca8-023635236503",
   "metadata": {},
   "outputs": [],
   "source": [
    "# Görselleştirme\n",
    "\n",
    "#tarihe cevirme\n",
    "\n",
    "df['tarih'] = pd.to_datetime(df['tarih'])\n",
    "\n",
    "#aya cevirme\n",
    "\n",
    "df['ay'] = df['tarih'].dt.to_period('M')  # YYYY-MM formatı\n",
    "\n",
    "#aylik gelir\n",
    "\n",
    "aylik_gelir = df.groupby('ay')['gelir'].sum()"
   ]
  },
  {
   "cell_type": "code",
   "execution_count": 19,
   "id": "f921dac7-f21c-4a48-b9c1-9ec8e0bcc32b",
   "metadata": {},
   "outputs": [
    {
     "data": {
      "image/png": "[encoded data removed]",
      "text/plain": [
       "<Figure size 640x480 with 1 Axes>"
      ]
     },
     "metadata": {},
     "output_type": "display_data"
    }
   ],
   "source": [
    "aylik_gelir.plot(kind='bar', color='skyblue', title='Aylık Toplam Gelir')\n",
    "plt.xlabel('Ay')\n",
    "plt.ylabel('Toplam Gelir')\n",
    "plt.show()\n"
   ]
  },
  {
   "cell_type": "code",
   "execution_count": null,
   "id": "5671a3b6-b47d-437e-9425-4d09c9cdb6e3",
   "metadata": {},
   "outputs": [],
   "source": []
  }
 ],
 "metadata": {
  "kernelspec": {
   "display_name": "Python 3 (ipykernel)",
   "language": "python",
   "name": "python3"
  },
  "language_info": {
   "codemirror_mode": {
    "name": "ipython",
    "version": 3
   },
   "file_extension": ".py",
   "mimetype": "text/x-python",
   "name": "python",
   "nbconvert_exporter": "python",
   "pygments_lexer": "ipython3",
   "version": "3.10.6"
  }
 },
 "nbformat": 4,
 "nbformat_minor": 5
}
